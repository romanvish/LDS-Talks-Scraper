{
 "cells": [
  {
   "cell_type": "code",
   "execution_count": 1,
   "metadata": {},
   "outputs": [],
   "source": [
    "import re\n",
    "import os"
   ]
  },
  {
   "cell_type": "code",
   "execution_count": 2,
   "metadata": {},
   "outputs": [],
   "source": [
    "with open('raw_text/bom/bom.txt', 'r') as file:  # downloaded from https://www.gutenberg.org/ebooks/17 (plain text utf-8 version)\n",
    "    # Read the contents of the file\n",
    "    content = file.read()\n",
    "    file.close()"
   ]
  },
  {
   "cell_type": "code",
   "execution_count": 3,
   "metadata": {},
   "outputs": [
    {
     "data": {
      "text/plain": [
       "'THE BOOK OF MORMON\\n\\nAn Account Written\\n BY THE HAND OF MORMON\\n\\nUPON PLATES TAKEN FROM THE PLATES OF '"
      ]
     },
     "execution_count": 3,
     "metadata": {},
     "output_type": "execute_result"
    }
   ],
   "source": [
    "content[0:100]"
   ]
  },
  {
   "cell_type": "code",
   "execution_count": 4,
   "metadata": {},
   "outputs": [
    {
     "name": "stderr",
     "output_type": "stream",
     "text": [
      "<>:1: SyntaxWarning: invalid escape sequence '\\s'\n",
      "<>:1: SyntaxWarning: invalid escape sequence '\\s'\n",
      "/var/folders/51/6b4306h90693z7j7cd0g40kr0000gn/T/ipykernel_29572/3890121770.py:1: SyntaxWarning: invalid escape sequence '\\s'\n",
      "  chapters = re.split('([A-Za-z0-4\\s]{1,12} Chapter \\d{1,2})', content)\n"
     ]
    }
   ],
   "source": [
    "chapters = re.split('([A-Za-z0-4\\s]{1,12} Chapter \\d{1,2})', content)"
   ]
  },
  {
   "cell_type": "code",
   "execution_count": 5,
   "metadata": {},
   "outputs": [],
   "source": [
    "books = ['1ne', '2ne', 'jac', 'eno', \"jar\", 'omn', 'wom', 'mos', 'alm', 'hel', '3ne', '4ne', 'mrm', 'eth', 'mni']"
   ]
  },
  {
   "cell_type": "code",
   "execution_count": 6,
   "metadata": {},
   "outputs": [
    {
     "name": "stderr",
     "output_type": "stream",
     "text": [
      "<>:4: SyntaxWarning: invalid escape sequence '\\d'\n",
      "<>:4: SyntaxWarning: invalid escape sequence '\\d'\n",
      "/var/folders/51/6b4306h90693z7j7cd0g40kr0000gn/T/ipykernel_29572/2700884972.py:4: SyntaxWarning: invalid escape sequence '\\d'\n",
      "  big_dict[re.sub('\\n\\n', '', chapters[i-1])] = re.split('\\d:', re.sub('\\n\\n|\\n', ' ', chapters[i]))[1:]\n"
     ]
    }
   ],
   "source": [
    "big_dict = {}\n",
    "for i in range(1, len(chapters)):\n",
    "    if i % 2 == 0:\n",
    "        big_dict[re.sub('\\n\\n', '', chapters[i-1])] = re.split('\\d:', re.sub('\\n\\n|\\n', ' ', chapters[i]))[1:]"
   ]
  },
  {
   "cell_type": "code",
   "execution_count": 7,
   "metadata": {},
   "outputs": [],
   "source": [
    "for chapter_num in list(big_dict.keys()):\n",
    "    chapter = ''\n",
    "    for verse in big_dict[chapter_num]:\n",
    "        chapter += f'{verse}\\n\\n'\n",
    "    chapter_with_title = f'{chapter_num} \\n\\n{chapter}'\n",
    "\n",
    "    filename = os.path.join('clean_text', 'bom_processed', f'{chapter_num.replace(' ', '_')}.txt')\n",
    "    with open(filename, 'w', encoding='utf-8') as f:\n",
    "        f.write(chapter_with_title)\n"
   ]
  },
  {
   "cell_type": "markdown",
   "metadata": {},
   "source": [
    "### kjv"
   ]
  },
  {
   "cell_type": "code",
   "execution_count": 8,
   "metadata": {},
   "outputs": [],
   "source": [
    "with open('raw_text/kjv/kjv.txt', 'r') as file:  # downloaded from https://www.gutenberg.org/ebooks/17 (plain text utf-8 version)\n",
    "    # Read the contents of the file\n",
    "    kjv = file.read()\n",
    "    file.close()"
   ]
  },
  {
   "cell_type": "code",
   "execution_count": 9,
   "metadata": {},
   "outputs": [
    {
     "data": {
      "text/plain": [
       "'The Old Testament of the King James Version of the Bible\\nThe First Book of Moses: Called Genesis\\nThe Second Book of Moses: Called Exodus\\nThe Third Book of Moses: Called Leviticus\\nThe Fourth Book of Moses: Called Numbers\\nTh'"
      ]
     },
     "execution_count": 9,
     "metadata": {},
     "output_type": "execute_result"
    }
   ],
   "source": [
    "kjv[0:222]"
   ]
  },
  {
   "cell_type": "code",
   "execution_count": 10,
   "metadata": {},
   "outputs": [],
   "source": [
    "kjv = []\n",
    "with open('raw_text/kjv/kjv2.txt', 'r') as file:  # pasted from https://openbible.com/textfiles/kjv.txt\n",
    "    # Read the contents of the file\n",
    "    #  kjv = file.read()\n",
    "    for line in file:\n",
    "        kjv.append(line.rstrip())\n",
    "    file.close()"
   ]
  },
  {
   "cell_type": "code",
   "execution_count": 11,
   "metadata": {},
   "outputs": [
    {
     "name": "stdout",
     "output_type": "stream",
     "text": [
      "verse KJV... unable to be processed\n",
      "verse King James Bible: Pure Cambridge Edition - Text co... unable to be processed\n"
     ]
    }
   ],
   "source": [
    "kjv_dict = {}\n",
    "for verse in kjv:\n",
    "    try:\n",
    "        separated = verse.split('\\t')\n",
    "        book_versenum = separated[0]\n",
    "        verse_text = separated[1]\n",
    "        kjv_dict[book_versenum] = verse_text\n",
    "    except IndexError as ve:\n",
    "        print(f'verse {verse[0:50]}... unable to be processed')"
   ]
  },
  {
   "cell_type": "code",
   "execution_count": 12,
   "metadata": {},
   "outputs": [],
   "source": [
    "verse_titles = list(kjv_dict.keys())\n",
    "verse_content = list(kjv_dict.values())"
   ]
  },
  {
   "cell_type": "code",
   "execution_count": 13,
   "metadata": {},
   "outputs": [
    {
     "name": "stderr",
     "output_type": "stream",
     "text": [
      "<>:1: SyntaxWarning: invalid escape sequence '\\s'\n",
      "<>:1: SyntaxWarning: invalid escape sequence '\\s'\n",
      "/var/folders/51/6b4306h90693z7j7cd0g40kr0000gn/T/ipykernel_29572/3600205104.py:1: SyntaxWarning: invalid escape sequence '\\s'\n",
      "  split_verse = re.split('(\\s\\d{1,2}):', verse_titles[17547])\n"
     ]
    },
    {
     "data": {
      "text/plain": [
       "'Song of Solomon 1:10'"
      ]
     },
     "execution_count": 13,
     "metadata": {},
     "output_type": "execute_result"
    }
   ],
   "source": [
    "split_verse = re.split('(\\s\\d{1,2}):', verse_titles[17547])\n",
    "f'{split_verse[0]}{split_verse[1]}:{split_verse[2]}'"
   ]
  },
  {
   "cell_type": "code",
   "execution_count": 14,
   "metadata": {},
   "outputs": [
    {
     "data": {
      "text/plain": [
       "['And God said, Let us make man in our image, after our likeness: and let them have dominion over the fish of the sea, and over the fowl of the air, and over the cattle, and over all the earth, and over every creeping thing that creepeth upon the earth.',\n",
       " 'So God created man in his [own] image, in the image of God created he him; male and female created he them.',\n",
       " 'And God blessed them, and God said unto them, Be fruitful, and multiply, and replenish the earth, and subdue it: and have dominion over the fish of the sea, and over the fowl of the air, and over every living thing that moveth upon the earth.',\n",
       " 'And God said, Behold, I have given you every herb bearing seed, which [is] upon the face of all the earth, and every tree, in the which [is] the fruit of a tree yielding seed; to you it shall be for meat.',\n",
       " 'And to every beast of the earth, and to every fowl of the air, and to every thing that creepeth upon the earth, wherein [there is] life, [I have given] every green herb for meat: and it was so.',\n",
       " 'And God saw every thing that he had made, and, behold, [it was] very good. And the evening and the morning were the sixth day.',\n",
       " 'Thus the heavens and the earth were finished, and all the host of them.',\n",
       " 'And on the seventh day God ended his work which he had made; and he rested on the seventh day from all his work which he had made.',\n",
       " 'And God blessed the seventh day, and sanctified it: because that in it he had rested from all his work which God created and made.',\n",
       " 'These [are] the generations of the heavens and of the earth when they were created, in the day that the LORD God made the earth and the heavens,']"
      ]
     },
     "execution_count": 14,
     "metadata": {},
     "output_type": "execute_result"
    }
   ],
   "source": [
    "verse_content[25:35]"
   ]
  },
  {
   "cell_type": "code",
   "execution_count": 15,
   "metadata": {},
   "outputs": [
    {
     "data": {
      "text/plain": [
       "['Genesis 1:26',\n",
       " 'Genesis 1:27',\n",
       " 'Genesis 1:28',\n",
       " 'Genesis 1:29',\n",
       " 'Genesis 1:30',\n",
       " 'Genesis 1:31',\n",
       " 'Genesis 2:1',\n",
       " 'Genesis 2:2',\n",
       " 'Genesis 2:3',\n",
       " 'Genesis 2:4']"
      ]
     },
     "execution_count": 15,
     "metadata": {},
     "output_type": "execute_result"
    }
   ],
   "source": [
    "verse_titles[25:35]"
   ]
  },
  {
   "cell_type": "code",
   "execution_count": 40,
   "metadata": {},
   "outputs": [
    {
     "name": "stderr",
     "output_type": "stream",
     "text": [
      "<>:7: SyntaxWarning: invalid escape sequence '\\s'\n",
      "<>:7: SyntaxWarning: invalid escape sequence '\\s'\n",
      "/var/folders/51/6b4306h90693z7j7cd0g40kr0000gn/T/ipykernel_29572/2634220088.py:7: SyntaxWarning: invalid escape sequence '\\s'\n",
      "  split = re.split('(\\s\\d{1,3}):', verse_nums[i])\n"
     ]
    },
    {
     "data": {
      "text/plain": [
       "{'Genesis_Chapter_1': 'Genesis Chapter 1 \\n\\nIn the beginning God created the heaven and the earth.\\n\\nAnd the earth was without form, and void; and darkness [was] upon the face of the deep. And the Spirit of God moved upon the face of the waters.\\n\\nAnd God said, Let there be light: and there was light.\\n\\nAnd God saw the light, that [it was] good: and God divided the light from the darkness.\\n\\nAnd God called the light Day, and the darkness he called Night. And the evening and the morning were the first day.\\n\\nAnd God said, Let there be a firmament in the midst of the waters, and let it divide the waters from the waters.\\n\\nAnd God made the firmament, and divided the waters which [were] under the firmament from the waters which [were] above the firmament: and it was so.\\n\\nAnd God called the firmament Heaven. And the evening and the morning were the second day.\\n\\nAnd God said, Let the waters under the heaven be gathered together unto one place, and let the dry [land] appear: and it was so.\\n\\nAnd God called the dry [land] Earth; and the gathering together of the waters called he Seas: and God saw that [it was] good.\\n\\nAnd God said, Let the earth bring forth grass, the herb yielding seed, [and] the fruit tree yielding fruit after his kind, whose seed [is] in itself, upon the earth: and it was so.\\n\\nAnd the earth brought forth grass, [and] herb yielding seed after his kind, and the tree yielding fruit, whose seed [was] in itself, after his kind: and God saw that [it was] good.\\n\\nAnd the evening and the morning were the third day.\\n\\nAnd God said, Let there be lights in the firmament of the heaven to divide the day from the night; and let them be for signs, and for seasons, and for days, and years:\\n\\nAnd let them be for lights in the firmament of the heaven to give light upon the earth: and it was so.\\n\\nAnd God made two great lights; the greater light to rule the day, and the lesser light to rule the night: [he made] the stars also.\\n\\nAnd God set them in the firmament of the heaven to give light upon the earth,\\n\\nAnd to rule over the day and over the night, and to divide the light from the darkness: and God saw that [it was] good.\\n\\nAnd the evening and the morning were the fourth day.\\n\\nAnd God said, Let the waters bring forth abundantly the moving creature that hath life, and fowl [that] may fly above the earth in the open firmament of heaven.\\n\\nAnd God created great whales, and every living creature that moveth, which the waters brought forth abundantly, after their kind, and every winged fowl after his kind: and God saw that [it was] good.\\n\\nAnd God blessed them, saying, Be fruitful, and multiply, and fill the waters in the seas, and let fowl multiply in the earth.\\n\\nAnd the evening and the morning were the fifth day.\\n\\nAnd God said, Let the earth bring forth the living creature after his kind, cattle, and creeping thing, and beast of the earth after his kind: and it was so.\\n\\nAnd God made the beast of the earth after his kind, and cattle after their kind, and every thing that creepeth upon the earth after his kind: and God saw that [it was] good.\\n\\nAnd God said, Let us make man in our image, after our likeness: and let them have dominion over the fish of the sea, and over the fowl of the air, and over the cattle, and over all the earth, and over every creeping thing that creepeth upon the earth.\\n\\nSo God created man in his [own] image, in the image of God created he him; male and female created he them.\\n\\nAnd God blessed them, and God said unto them, Be fruitful, and multiply, and replenish the earth, and subdue it: and have dominion over the fish of the sea, and over the fowl of the air, and over every living thing that moveth upon the earth.\\n\\nAnd God said, Behold, I have given you every herb bearing seed, which [is] upon the face of all the earth, and every tree, in the which [is] the fruit of a tree yielding seed; to you it shall be for meat.\\n\\nAnd to every beast of the earth, and to every fowl of the air, and to every thing that creepeth upon the earth, wherein [there is] life, [I have given] every green herb for meat: and it was so.\\n\\nAnd God saw every thing that he had made, and, behold, [it was] very good. And the evening and the morning were the sixth day.\\n\\n',\n",
       " 'Genesis_Chapter_2': 'Genesis Chapter 2 \\n\\nThus the heavens and the earth were finished, and all the host of them.\\n\\nAnd on the seventh day God ended his work which he had made; and he rested on the seventh day from all his work which he had made.\\n\\nAnd God blessed the seventh day, and sanctified it: because that in it he had rested from all his work which God created and made.\\n\\nThese [are] the generations of the heavens and of the earth when they were created, in the day that the LORD God made the earth and the heavens,\\n\\n'}"
      ]
     },
     "execution_count": 40,
     "metadata": {},
     "output_type": "execute_result"
    }
   ],
   "source": [
    "def bible_formatter(verse_nums, verse_text):\n",
    "    \"\"\"Format the whole bible.\"\"\"\n",
    "    bible = {}\n",
    "    chapter_name = ''\n",
    "    try:\n",
    "        for i in range(len(verse_nums)):\n",
    "            split = re.split('(\\s\\d{1,3}):', verse_nums[i])\n",
    "            if chapter_name != f'{split[0]} Chapter{split[1]}'.replace(' ', '_'):    \n",
    "                chapter_content = ''\n",
    "                chapter_name = f'{split[0]} Chapter{split[1]}'.replace(' ', '_')\n",
    "                # print(chapter_name)\n",
    "            if chapter_name == f'{split[0]} Chapter{split[1]}'.replace(' ', '_'):\n",
    "                chapter_content += verse_text[i] + '\\n\\n'\n",
    "                bible[chapter_name] = f'{re.sub('_', ' ', chapter_name)} \\n\\n{chapter_content}'\n",
    "    except IndexError as ie:\n",
    "        print(ie)\n",
    "        print(split)\n",
    "\n",
    "    return bible\n",
    "\n",
    "bible_formatter(verse_titles[0:35], verse_content[0:35])"
   ]
  },
  {
   "cell_type": "code",
   "execution_count": 44,
   "metadata": {},
   "outputs": [],
   "source": [
    "formatted_bible_dict = bible_formatter(verse_titles, verse_content)"
   ]
  },
  {
   "cell_type": "code",
   "execution_count": 45,
   "metadata": {},
   "outputs": [
    {
     "data": {
      "text/plain": [
       "dict_keys(['Genesis_Chapter_1', 'Genesis_Chapter_2', 'Genesis_Chapter_3', 'Genesis_Chapter_4', 'Genesis_Chapter_5', 'Genesis_Chapter_6', 'Genesis_Chapter_7', 'Genesis_Chapter_8', 'Genesis_Chapter_9', 'Genesis_Chapter_10', 'Genesis_Chapter_11', 'Genesis_Chapter_12', 'Genesis_Chapter_13', 'Genesis_Chapter_14', 'Genesis_Chapter_15', 'Genesis_Chapter_16', 'Genesis_Chapter_17', 'Genesis_Chapter_18', 'Genesis_Chapter_19', 'Genesis_Chapter_20', 'Genesis_Chapter_21', 'Genesis_Chapter_22', 'Genesis_Chapter_23', 'Genesis_Chapter_24', 'Genesis_Chapter_25', 'Genesis_Chapter_26', 'Genesis_Chapter_27', 'Genesis_Chapter_28', 'Genesis_Chapter_29', 'Genesis_Chapter_30', 'Genesis_Chapter_31', 'Genesis_Chapter_32', 'Genesis_Chapter_33', 'Genesis_Chapter_34', 'Genesis_Chapter_35', 'Genesis_Chapter_36', 'Genesis_Chapter_37', 'Genesis_Chapter_38', 'Genesis_Chapter_39', 'Genesis_Chapter_40', 'Genesis_Chapter_41', 'Genesis_Chapter_42', 'Genesis_Chapter_43', 'Genesis_Chapter_44', 'Genesis_Chapter_45', 'Genesis_Chapter_46', 'Genesis_Chapter_47', 'Genesis_Chapter_48', 'Genesis_Chapter_49', 'Genesis_Chapter_50', 'Exodus_Chapter_1', 'Exodus_Chapter_2', 'Exodus_Chapter_3', 'Exodus_Chapter_4', 'Exodus_Chapter_5', 'Exodus_Chapter_6', 'Exodus_Chapter_7', 'Exodus_Chapter_8', 'Exodus_Chapter_9', 'Exodus_Chapter_10', 'Exodus_Chapter_11', 'Exodus_Chapter_12', 'Exodus_Chapter_13', 'Exodus_Chapter_14', 'Exodus_Chapter_15', 'Exodus_Chapter_16', 'Exodus_Chapter_17', 'Exodus_Chapter_18', 'Exodus_Chapter_19', 'Exodus_Chapter_20', 'Exodus_Chapter_21', 'Exodus_Chapter_22', 'Exodus_Chapter_23', 'Exodus_Chapter_24', 'Exodus_Chapter_25', 'Exodus_Chapter_26', 'Exodus_Chapter_27', 'Exodus_Chapter_28', 'Exodus_Chapter_29', 'Exodus_Chapter_30', 'Exodus_Chapter_31', 'Exodus_Chapter_32', 'Exodus_Chapter_33', 'Exodus_Chapter_34', 'Exodus_Chapter_35', 'Exodus_Chapter_36', 'Exodus_Chapter_37', 'Exodus_Chapter_38', 'Exodus_Chapter_39', 'Exodus_Chapter_40', 'Leviticus_Chapter_1', 'Leviticus_Chapter_2', 'Leviticus_Chapter_3', 'Leviticus_Chapter_4', 'Leviticus_Chapter_5', 'Leviticus_Chapter_6', 'Leviticus_Chapter_7', 'Leviticus_Chapter_8', 'Leviticus_Chapter_9', 'Leviticus_Chapter_10', 'Leviticus_Chapter_11', 'Leviticus_Chapter_12', 'Leviticus_Chapter_13', 'Leviticus_Chapter_14', 'Leviticus_Chapter_15', 'Leviticus_Chapter_16', 'Leviticus_Chapter_17', 'Leviticus_Chapter_18', 'Leviticus_Chapter_19', 'Leviticus_Chapter_20', 'Leviticus_Chapter_21', 'Leviticus_Chapter_22', 'Leviticus_Chapter_23', 'Leviticus_Chapter_24', 'Leviticus_Chapter_25', 'Leviticus_Chapter_26', 'Leviticus_Chapter_27', 'Numbers_Chapter_1', 'Numbers_Chapter_2', 'Numbers_Chapter_3', 'Numbers_Chapter_4', 'Numbers_Chapter_5', 'Numbers_Chapter_6', 'Numbers_Chapter_7', 'Numbers_Chapter_8', 'Numbers_Chapter_9', 'Numbers_Chapter_10', 'Numbers_Chapter_11', 'Numbers_Chapter_12', 'Numbers_Chapter_13', 'Numbers_Chapter_14', 'Numbers_Chapter_15', 'Numbers_Chapter_16', 'Numbers_Chapter_17', 'Numbers_Chapter_18', 'Numbers_Chapter_19', 'Numbers_Chapter_20', 'Numbers_Chapter_21', 'Numbers_Chapter_22', 'Numbers_Chapter_23', 'Numbers_Chapter_24', 'Numbers_Chapter_25', 'Numbers_Chapter_26', 'Numbers_Chapter_27', 'Numbers_Chapter_28', 'Numbers_Chapter_29', 'Numbers_Chapter_30', 'Numbers_Chapter_31', 'Numbers_Chapter_32', 'Numbers_Chapter_33', 'Numbers_Chapter_34', 'Numbers_Chapter_35', 'Numbers_Chapter_36', 'Deuteronomy_Chapter_1', 'Deuteronomy_Chapter_2', 'Deuteronomy_Chapter_3', 'Deuteronomy_Chapter_4', 'Deuteronomy_Chapter_5', 'Deuteronomy_Chapter_6', 'Deuteronomy_Chapter_7', 'Deuteronomy_Chapter_8', 'Deuteronomy_Chapter_9', 'Deuteronomy_Chapter_10', 'Deuteronomy_Chapter_11', 'Deuteronomy_Chapter_12', 'Deuteronomy_Chapter_13', 'Deuteronomy_Chapter_14', 'Deuteronomy_Chapter_15', 'Deuteronomy_Chapter_16', 'Deuteronomy_Chapter_17', 'Deuteronomy_Chapter_18', 'Deuteronomy_Chapter_19', 'Deuteronomy_Chapter_20', 'Deuteronomy_Chapter_21', 'Deuteronomy_Chapter_22', 'Deuteronomy_Chapter_23', 'Deuteronomy_Chapter_24', 'Deuteronomy_Chapter_25', 'Deuteronomy_Chapter_26', 'Deuteronomy_Chapter_27', 'Deuteronomy_Chapter_28', 'Deuteronomy_Chapter_29', 'Deuteronomy_Chapter_30', 'Deuteronomy_Chapter_31', 'Deuteronomy_Chapter_32', 'Deuteronomy_Chapter_33', 'Deuteronomy_Chapter_34', 'Joshua_Chapter_1', 'Joshua_Chapter_2', 'Joshua_Chapter_3', 'Joshua_Chapter_4', 'Joshua_Chapter_5', 'Joshua_Chapter_6', 'Joshua_Chapter_7', 'Joshua_Chapter_8', 'Joshua_Chapter_9', 'Joshua_Chapter_10', 'Joshua_Chapter_11', 'Joshua_Chapter_12', 'Joshua_Chapter_13', 'Joshua_Chapter_14', 'Joshua_Chapter_15', 'Joshua_Chapter_16', 'Joshua_Chapter_17', 'Joshua_Chapter_18', 'Joshua_Chapter_19', 'Joshua_Chapter_20', 'Joshua_Chapter_21', 'Joshua_Chapter_22', 'Joshua_Chapter_23', 'Joshua_Chapter_24', 'Judges_Chapter_1', 'Judges_Chapter_2', 'Judges_Chapter_3', 'Judges_Chapter_4', 'Judges_Chapter_5', 'Judges_Chapter_6', 'Judges_Chapter_7', 'Judges_Chapter_8', 'Judges_Chapter_9', 'Judges_Chapter_10', 'Judges_Chapter_11', 'Judges_Chapter_12', 'Judges_Chapter_13', 'Judges_Chapter_14', 'Judges_Chapter_15', 'Judges_Chapter_16', 'Judges_Chapter_17', 'Judges_Chapter_18', 'Judges_Chapter_19', 'Judges_Chapter_20', 'Judges_Chapter_21', 'Ruth_Chapter_1', 'Ruth_Chapter_2', 'Ruth_Chapter_3', 'Ruth_Chapter_4', '1_Samuel_Chapter_1', '1_Samuel_Chapter_2', '1_Samuel_Chapter_3', '1_Samuel_Chapter_4', '1_Samuel_Chapter_5', '1_Samuel_Chapter_6', '1_Samuel_Chapter_7', '1_Samuel_Chapter_8', '1_Samuel_Chapter_9', '1_Samuel_Chapter_10', '1_Samuel_Chapter_11', '1_Samuel_Chapter_12', '1_Samuel_Chapter_13', '1_Samuel_Chapter_14', '1_Samuel_Chapter_15', '1_Samuel_Chapter_16', '1_Samuel_Chapter_17', '1_Samuel_Chapter_18', '1_Samuel_Chapter_19', '1_Samuel_Chapter_20', '1_Samuel_Chapter_21', '1_Samuel_Chapter_22', '1_Samuel_Chapter_23', '1_Samuel_Chapter_24', '1_Samuel_Chapter_25', '1_Samuel_Chapter_26', '1_Samuel_Chapter_27', '1_Samuel_Chapter_28', '1_Samuel_Chapter_29', '1_Samuel_Chapter_30', '1_Samuel_Chapter_31', '2_Samuel_Chapter_1', '2_Samuel_Chapter_2', '2_Samuel_Chapter_3', '2_Samuel_Chapter_4', '2_Samuel_Chapter_5', '2_Samuel_Chapter_6', '2_Samuel_Chapter_7', '2_Samuel_Chapter_8', '2_Samuel_Chapter_9', '2_Samuel_Chapter_10', '2_Samuel_Chapter_11', '2_Samuel_Chapter_12', '2_Samuel_Chapter_13', '2_Samuel_Chapter_14', '2_Samuel_Chapter_15', '2_Samuel_Chapter_16', '2_Samuel_Chapter_17', '2_Samuel_Chapter_18', '2_Samuel_Chapter_19', '2_Samuel_Chapter_20', '2_Samuel_Chapter_21', '2_Samuel_Chapter_22', '2_Samuel_Chapter_23', '2_Samuel_Chapter_24', '1_Kings_Chapter_1', '1_Kings_Chapter_2', '1_Kings_Chapter_3', '1_Kings_Chapter_4', '1_Kings_Chapter_5', '1_Kings_Chapter_6', '1_Kings_Chapter_7', '1_Kings_Chapter_8', '1_Kings_Chapter_9', '1_Kings_Chapter_10', '1_Kings_Chapter_11', '1_Kings_Chapter_12', '1_Kings_Chapter_13', '1_Kings_Chapter_14', '1_Kings_Chapter_15', '1_Kings_Chapter_16', '1_Kings_Chapter_17', '1_Kings_Chapter_18', '1_Kings_Chapter_19', '1_Kings_Chapter_20', '1_Kings_Chapter_21', '1_Kings_Chapter_22', '2_Kings_Chapter_1', '2_Kings_Chapter_2', '2_Kings_Chapter_3', '2_Kings_Chapter_4', '2_Kings_Chapter_5', '2_Kings_Chapter_6', '2_Kings_Chapter_7', '2_Kings_Chapter_8', '2_Kings_Chapter_9', '2_Kings_Chapter_10', '2_Kings_Chapter_11', '2_Kings_Chapter_12', '2_Kings_Chapter_13', '2_Kings_Chapter_14', '2_Kings_Chapter_15', '2_Kings_Chapter_16', '2_Kings_Chapter_17', '2_Kings_Chapter_18', '2_Kings_Chapter_19', '2_Kings_Chapter_20', '2_Kings_Chapter_21', '2_Kings_Chapter_22', '2_Kings_Chapter_23', '2_Kings_Chapter_24', '2_Kings_Chapter_25', '1_Chronicles_Chapter_1', '1_Chronicles_Chapter_2', '1_Chronicles_Chapter_3', '1_Chronicles_Chapter_4', '1_Chronicles_Chapter_5', '1_Chronicles_Chapter_6', '1_Chronicles_Chapter_7', '1_Chronicles_Chapter_8', '1_Chronicles_Chapter_9', '1_Chronicles_Chapter_10', '1_Chronicles_Chapter_11', '1_Chronicles_Chapter_12', '1_Chronicles_Chapter_13', '1_Chronicles_Chapter_14', '1_Chronicles_Chapter_15', '1_Chronicles_Chapter_16', '1_Chronicles_Chapter_17', '1_Chronicles_Chapter_18', '1_Chronicles_Chapter_19', '1_Chronicles_Chapter_20', '1_Chronicles_Chapter_21', '1_Chronicles_Chapter_22', '1_Chronicles_Chapter_23', '1_Chronicles_Chapter_24', '1_Chronicles_Chapter_25', '1_Chronicles_Chapter_26', '1_Chronicles_Chapter_27', '1_Chronicles_Chapter_28', '1_Chronicles_Chapter_29', '2_Chronicles_Chapter_1', '2_Chronicles_Chapter_2', '2_Chronicles_Chapter_3', '2_Chronicles_Chapter_4', '2_Chronicles_Chapter_5', '2_Chronicles_Chapter_6', '2_Chronicles_Chapter_7', '2_Chronicles_Chapter_8', '2_Chronicles_Chapter_9', '2_Chronicles_Chapter_10', '2_Chronicles_Chapter_11', '2_Chronicles_Chapter_12', '2_Chronicles_Chapter_13', '2_Chronicles_Chapter_14', '2_Chronicles_Chapter_15', '2_Chronicles_Chapter_16', '2_Chronicles_Chapter_17', '2_Chronicles_Chapter_18', '2_Chronicles_Chapter_19', '2_Chronicles_Chapter_20', '2_Chronicles_Chapter_21', '2_Chronicles_Chapter_22', '2_Chronicles_Chapter_23', '2_Chronicles_Chapter_24', '2_Chronicles_Chapter_25', '2_Chronicles_Chapter_26', '2_Chronicles_Chapter_27', '2_Chronicles_Chapter_28', '2_Chronicles_Chapter_29', '2_Chronicles_Chapter_30', '2_Chronicles_Chapter_31', '2_Chronicles_Chapter_32', '2_Chronicles_Chapter_33', '2_Chronicles_Chapter_34', '2_Chronicles_Chapter_35', '2_Chronicles_Chapter_36', 'Ezra_Chapter_1', 'Ezra_Chapter_2', 'Ezra_Chapter_3', 'Ezra_Chapter_4', 'Ezra_Chapter_5', 'Ezra_Chapter_6', 'Ezra_Chapter_7', 'Ezra_Chapter_8', 'Ezra_Chapter_9', 'Ezra_Chapter_10', 'Nehemiah_Chapter_1', 'Nehemiah_Chapter_2', 'Nehemiah_Chapter_3', 'Nehemiah_Chapter_4', 'Nehemiah_Chapter_5', 'Nehemiah_Chapter_6', 'Nehemiah_Chapter_7', 'Nehemiah_Chapter_8', 'Nehemiah_Chapter_9', 'Nehemiah_Chapter_10', 'Nehemiah_Chapter_11', 'Nehemiah_Chapter_12', 'Nehemiah_Chapter_13', 'Esther_Chapter_1', 'Esther_Chapter_2', 'Esther_Chapter_3', 'Esther_Chapter_4', 'Esther_Chapter_5', 'Esther_Chapter_6', 'Esther_Chapter_7', 'Esther_Chapter_8', 'Esther_Chapter_9', 'Esther_Chapter_10', 'Job_Chapter_1', 'Job_Chapter_2', 'Job_Chapter_3', 'Job_Chapter_4', 'Job_Chapter_5', 'Job_Chapter_6', 'Job_Chapter_7', 'Job_Chapter_8', 'Job_Chapter_9', 'Job_Chapter_10', 'Job_Chapter_11', 'Job_Chapter_12', 'Job_Chapter_13', 'Job_Chapter_14', 'Job_Chapter_15', 'Job_Chapter_16', 'Job_Chapter_17', 'Job_Chapter_18', 'Job_Chapter_19', 'Job_Chapter_20', 'Job_Chapter_21', 'Job_Chapter_22', 'Job_Chapter_23', 'Job_Chapter_24', 'Job_Chapter_25', 'Job_Chapter_26', 'Job_Chapter_27', 'Job_Chapter_28', 'Job_Chapter_29', 'Job_Chapter_30', 'Job_Chapter_31', 'Job_Chapter_32', 'Job_Chapter_33', 'Job_Chapter_34', 'Job_Chapter_35', 'Job_Chapter_36', 'Job_Chapter_37', 'Job_Chapter_38', 'Job_Chapter_39', 'Job_Chapter_40', 'Job_Chapter_41', 'Job_Chapter_42', 'Psalm_Chapter_1', 'Psalm_Chapter_2', 'Psalm_Chapter_3', 'Psalm_Chapter_4', 'Psalm_Chapter_5', 'Psalm_Chapter_6', 'Psalm_Chapter_7', 'Psalm_Chapter_8', 'Psalm_Chapter_9', 'Psalm_Chapter_10', 'Psalm_Chapter_11', 'Psalm_Chapter_12', 'Psalm_Chapter_13', 'Psalm_Chapter_14', 'Psalm_Chapter_15', 'Psalm_Chapter_16', 'Psalm_Chapter_17', 'Psalm_Chapter_18', 'Psalm_Chapter_19', 'Psalm_Chapter_20', 'Psalm_Chapter_21', 'Psalm_Chapter_22', 'Psalm_Chapter_23', 'Psalm_Chapter_24', 'Psalm_Chapter_25', 'Psalm_Chapter_26', 'Psalm_Chapter_27', 'Psalm_Chapter_28', 'Psalm_Chapter_29', 'Psalm_Chapter_30', 'Psalm_Chapter_31', 'Psalm_Chapter_32', 'Psalm_Chapter_33', 'Psalm_Chapter_34', 'Psalm_Chapter_35', 'Psalm_Chapter_36', 'Psalm_Chapter_37', 'Psalm_Chapter_38', 'Psalm_Chapter_39', 'Psalm_Chapter_40', 'Psalm_Chapter_41', 'Psalm_Chapter_42', 'Psalm_Chapter_43', 'Psalm_Chapter_44', 'Psalm_Chapter_45', 'Psalm_Chapter_46', 'Psalm_Chapter_47', 'Psalm_Chapter_48', 'Psalm_Chapter_49', 'Psalm_Chapter_50', 'Psalm_Chapter_51', 'Psalm_Chapter_52', 'Psalm_Chapter_53', 'Psalm_Chapter_54', 'Psalm_Chapter_55', 'Psalm_Chapter_56', 'Psalm_Chapter_57', 'Psalm_Chapter_58', 'Psalm_Chapter_59', 'Psalm_Chapter_60', 'Psalm_Chapter_61', 'Psalm_Chapter_62', 'Psalm_Chapter_63', 'Psalm_Chapter_64', 'Psalm_Chapter_65', 'Psalm_Chapter_66', 'Psalm_Chapter_67', 'Psalm_Chapter_68', 'Psalm_Chapter_69', 'Psalm_Chapter_70', 'Psalm_Chapter_71', 'Psalm_Chapter_72', 'Psalm_Chapter_73', 'Psalm_Chapter_74', 'Psalm_Chapter_75', 'Psalm_Chapter_76', 'Psalm_Chapter_77', 'Psalm_Chapter_78', 'Psalm_Chapter_79', 'Psalm_Chapter_80', 'Psalm_Chapter_81', 'Psalm_Chapter_82', 'Psalm_Chapter_83', 'Psalm_Chapter_84', 'Psalm_Chapter_85', 'Psalm_Chapter_86', 'Psalm_Chapter_87', 'Psalm_Chapter_88', 'Psalm_Chapter_89', 'Psalm_Chapter_90', 'Psalm_Chapter_91', 'Psalm_Chapter_92', 'Psalm_Chapter_93', 'Psalm_Chapter_94', 'Psalm_Chapter_95', 'Psalm_Chapter_96', 'Psalm_Chapter_97', 'Psalm_Chapter_98', 'Psalm_Chapter_99', 'Psalm_Chapter_100', 'Psalm_Chapter_101', 'Psalm_Chapter_102', 'Psalm_Chapter_103', 'Psalm_Chapter_104', 'Psalm_Chapter_105', 'Psalm_Chapter_106', 'Psalm_Chapter_107', 'Psalm_Chapter_108', 'Psalm_Chapter_109', 'Psalm_Chapter_110', 'Psalm_Chapter_111', 'Psalm_Chapter_112', 'Psalm_Chapter_113', 'Psalm_Chapter_114', 'Psalm_Chapter_115', 'Psalm_Chapter_116', 'Psalm_Chapter_117', 'Psalm_Chapter_118', 'Psalm_Chapter_119', 'Psalm_Chapter_120', 'Psalm_Chapter_121', 'Psalm_Chapter_122', 'Psalm_Chapter_123', 'Psalm_Chapter_124', 'Psalm_Chapter_125', 'Psalm_Chapter_126', 'Psalm_Chapter_127', 'Psalm_Chapter_128', 'Psalm_Chapter_129', 'Psalm_Chapter_130', 'Psalm_Chapter_131', 'Psalm_Chapter_132', 'Psalm_Chapter_133', 'Psalm_Chapter_134', 'Psalm_Chapter_135', 'Psalm_Chapter_136', 'Psalm_Chapter_137', 'Psalm_Chapter_138', 'Psalm_Chapter_139', 'Psalm_Chapter_140', 'Psalm_Chapter_141', 'Psalm_Chapter_142', 'Psalm_Chapter_143', 'Psalm_Chapter_144', 'Psalm_Chapter_145', 'Psalm_Chapter_146', 'Psalm_Chapter_147', 'Psalm_Chapter_148', 'Psalm_Chapter_149', 'Psalm_Chapter_150', 'Proverbs_Chapter_1', 'Proverbs_Chapter_2', 'Proverbs_Chapter_3', 'Proverbs_Chapter_4', 'Proverbs_Chapter_5', 'Proverbs_Chapter_6', 'Proverbs_Chapter_7', 'Proverbs_Chapter_8', 'Proverbs_Chapter_9', 'Proverbs_Chapter_10', 'Proverbs_Chapter_11', 'Proverbs_Chapter_12', 'Proverbs_Chapter_13', 'Proverbs_Chapter_14', 'Proverbs_Chapter_15', 'Proverbs_Chapter_16', 'Proverbs_Chapter_17', 'Proverbs_Chapter_18', 'Proverbs_Chapter_19', 'Proverbs_Chapter_20', 'Proverbs_Chapter_21', 'Proverbs_Chapter_22', 'Proverbs_Chapter_23', 'Proverbs_Chapter_24', 'Proverbs_Chapter_25', 'Proverbs_Chapter_26', 'Proverbs_Chapter_27', 'Proverbs_Chapter_28', 'Proverbs_Chapter_29', 'Proverbs_Chapter_30', 'Proverbs_Chapter_31', 'Ecclesiastes_Chapter_1', 'Ecclesiastes_Chapter_2', 'Ecclesiastes_Chapter_3', 'Ecclesiastes_Chapter_4', 'Ecclesiastes_Chapter_5', 'Ecclesiastes_Chapter_6', 'Ecclesiastes_Chapter_7', 'Ecclesiastes_Chapter_8', 'Ecclesiastes_Chapter_9', 'Ecclesiastes_Chapter_10', 'Ecclesiastes_Chapter_11', 'Ecclesiastes_Chapter_12', 'Song_of_Solomon_Chapter_1', 'Song_of_Solomon_Chapter_2', 'Song_of_Solomon_Chapter_3', 'Song_of_Solomon_Chapter_4', 'Song_of_Solomon_Chapter_5', 'Song_of_Solomon_Chapter_6', 'Song_of_Solomon_Chapter_7', 'Song_of_Solomon_Chapter_8', 'Isaiah_Chapter_1', 'Isaiah_Chapter_2', 'Isaiah_Chapter_3', 'Isaiah_Chapter_4', 'Isaiah_Chapter_5', 'Isaiah_Chapter_6', 'Isaiah_Chapter_7', 'Isaiah_Chapter_8', 'Isaiah_Chapter_9', 'Isaiah_Chapter_10', 'Isaiah_Chapter_11', 'Isaiah_Chapter_12', 'Isaiah_Chapter_13', 'Isaiah_Chapter_14', 'Isaiah_Chapter_15', 'Isaiah_Chapter_16', 'Isaiah_Chapter_17', 'Isaiah_Chapter_18', 'Isaiah_Chapter_19', 'Isaiah_Chapter_20', 'Isaiah_Chapter_21', 'Isaiah_Chapter_22', 'Isaiah_Chapter_23', 'Isaiah_Chapter_24', 'Isaiah_Chapter_25', 'Isaiah_Chapter_26', 'Isaiah_Chapter_27', 'Isaiah_Chapter_28', 'Isaiah_Chapter_29', 'Isaiah_Chapter_30', 'Isaiah_Chapter_31', 'Isaiah_Chapter_32', 'Isaiah_Chapter_33', 'Isaiah_Chapter_34', 'Isaiah_Chapter_35', 'Isaiah_Chapter_36', 'Isaiah_Chapter_37', 'Isaiah_Chapter_38', 'Isaiah_Chapter_39', 'Isaiah_Chapter_40', 'Isaiah_Chapter_41', 'Isaiah_Chapter_42', 'Isaiah_Chapter_43', 'Isaiah_Chapter_44', 'Isaiah_Chapter_45', 'Isaiah_Chapter_46', 'Isaiah_Chapter_47', 'Isaiah_Chapter_48', 'Isaiah_Chapter_49', 'Isaiah_Chapter_50', 'Isaiah_Chapter_51', 'Isaiah_Chapter_52', 'Isaiah_Chapter_53', 'Isaiah_Chapter_54', 'Isaiah_Chapter_55', 'Isaiah_Chapter_56', 'Isaiah_Chapter_57', 'Isaiah_Chapter_58', 'Isaiah_Chapter_59', 'Isaiah_Chapter_60', 'Isaiah_Chapter_61', 'Isaiah_Chapter_62', 'Isaiah_Chapter_63', 'Isaiah_Chapter_64', 'Isaiah_Chapter_65', 'Isaiah_Chapter_66', 'Jeremiah_Chapter_1', 'Jeremiah_Chapter_2', 'Jeremiah_Chapter_3', 'Jeremiah_Chapter_4', 'Jeremiah_Chapter_5', 'Jeremiah_Chapter_6', 'Jeremiah_Chapter_7', 'Jeremiah_Chapter_8', 'Jeremiah_Chapter_9', 'Jeremiah_Chapter_10', 'Jeremiah_Chapter_11', 'Jeremiah_Chapter_12', 'Jeremiah_Chapter_13', 'Jeremiah_Chapter_14', 'Jeremiah_Chapter_15', 'Jeremiah_Chapter_16', 'Jeremiah_Chapter_17', 'Jeremiah_Chapter_18', 'Jeremiah_Chapter_19', 'Jeremiah_Chapter_20', 'Jeremiah_Chapter_21', 'Jeremiah_Chapter_22', 'Jeremiah_Chapter_23', 'Jeremiah_Chapter_24', 'Jeremiah_Chapter_25', 'Jeremiah_Chapter_26', 'Jeremiah_Chapter_27', 'Jeremiah_Chapter_28', 'Jeremiah_Chapter_29', 'Jeremiah_Chapter_30', 'Jeremiah_Chapter_31', 'Jeremiah_Chapter_32', 'Jeremiah_Chapter_33', 'Jeremiah_Chapter_34', 'Jeremiah_Chapter_35', 'Jeremiah_Chapter_36', 'Jeremiah_Chapter_37', 'Jeremiah_Chapter_38', 'Jeremiah_Chapter_39', 'Jeremiah_Chapter_40', 'Jeremiah_Chapter_41', 'Jeremiah_Chapter_42', 'Jeremiah_Chapter_43', 'Jeremiah_Chapter_44', 'Jeremiah_Chapter_45', 'Jeremiah_Chapter_46', 'Jeremiah_Chapter_47', 'Jeremiah_Chapter_48', 'Jeremiah_Chapter_49', 'Jeremiah_Chapter_50', 'Jeremiah_Chapter_51', 'Jeremiah_Chapter_52', 'Lamentations_Chapter_1', 'Lamentations_Chapter_2', 'Lamentations_Chapter_3', 'Lamentations_Chapter_4', 'Lamentations_Chapter_5', 'Ezekiel_Chapter_1', 'Ezekiel_Chapter_2', 'Ezekiel_Chapter_3', 'Ezekiel_Chapter_4', 'Ezekiel_Chapter_5', 'Ezekiel_Chapter_6', 'Ezekiel_Chapter_7', 'Ezekiel_Chapter_8', 'Ezekiel_Chapter_9', 'Ezekiel_Chapter_10', 'Ezekiel_Chapter_11', 'Ezekiel_Chapter_12', 'Ezekiel_Chapter_13', 'Ezekiel_Chapter_14', 'Ezekiel_Chapter_15', 'Ezekiel_Chapter_16', 'Ezekiel_Chapter_17', 'Ezekiel_Chapter_18', 'Ezekiel_Chapter_19', 'Ezekiel_Chapter_20', 'Ezekiel_Chapter_21', 'Ezekiel_Chapter_22', 'Ezekiel_Chapter_23', 'Ezekiel_Chapter_24', 'Ezekiel_Chapter_25', 'Ezekiel_Chapter_26', 'Ezekiel_Chapter_27', 'Ezekiel_Chapter_28', 'Ezekiel_Chapter_29', 'Ezekiel_Chapter_30', 'Ezekiel_Chapter_31', 'Ezekiel_Chapter_32', 'Ezekiel_Chapter_33', 'Ezekiel_Chapter_34', 'Ezekiel_Chapter_35', 'Ezekiel_Chapter_36', 'Ezekiel_Chapter_37', 'Ezekiel_Chapter_38', 'Ezekiel_Chapter_39', 'Ezekiel_Chapter_40', 'Ezekiel_Chapter_41', 'Ezekiel_Chapter_42', 'Ezekiel_Chapter_43', 'Ezekiel_Chapter_44', 'Ezekiel_Chapter_45', 'Ezekiel_Chapter_46', 'Ezekiel_Chapter_47', 'Ezekiel_Chapter_48', 'Daniel_Chapter_1', 'Daniel_Chapter_2', 'Daniel_Chapter_3', 'Daniel_Chapter_4', 'Daniel_Chapter_5', 'Daniel_Chapter_6', 'Daniel_Chapter_7', 'Daniel_Chapter_8', 'Daniel_Chapter_9', 'Daniel_Chapter_10', 'Daniel_Chapter_11', 'Daniel_Chapter_12', 'Hosea_Chapter_1', 'Hosea_Chapter_2', 'Hosea_Chapter_3', 'Hosea_Chapter_4', 'Hosea_Chapter_5', 'Hosea_Chapter_6', 'Hosea_Chapter_7', 'Hosea_Chapter_8', 'Hosea_Chapter_9', 'Hosea_Chapter_10', 'Hosea_Chapter_11', 'Hosea_Chapter_12', 'Hosea_Chapter_13', 'Hosea_Chapter_14', 'Joel_Chapter_1', 'Joel_Chapter_2', 'Joel_Chapter_3', 'Amos_Chapter_1', 'Amos_Chapter_2', 'Amos_Chapter_3', 'Amos_Chapter_4', 'Amos_Chapter_5', 'Amos_Chapter_6', 'Amos_Chapter_7', 'Amos_Chapter_8', 'Amos_Chapter_9', 'Obadiah_Chapter_1', 'Jonah_Chapter_1', 'Jonah_Chapter_2', 'Jonah_Chapter_3', 'Jonah_Chapter_4', 'Micah_Chapter_1', 'Micah_Chapter_2', 'Micah_Chapter_3', 'Micah_Chapter_4', 'Micah_Chapter_5', 'Micah_Chapter_6', 'Micah_Chapter_7', 'Nahum_Chapter_1', 'Nahum_Chapter_2', 'Nahum_Chapter_3', 'Habakkuk_Chapter_1', 'Habakkuk_Chapter_2', 'Habakkuk_Chapter_3', 'Zephaniah_Chapter_1', 'Zephaniah_Chapter_2', 'Zephaniah_Chapter_3', 'Haggai_Chapter_1', 'Haggai_Chapter_2', 'Zechariah_Chapter_1', 'Zechariah_Chapter_2', 'Zechariah_Chapter_3', 'Zechariah_Chapter_4', 'Zechariah_Chapter_5', 'Zechariah_Chapter_6', 'Zechariah_Chapter_7', 'Zechariah_Chapter_8', 'Zechariah_Chapter_9', 'Zechariah_Chapter_10', 'Zechariah_Chapter_11', 'Zechariah_Chapter_12', 'Zechariah_Chapter_13', 'Zechariah_Chapter_14', 'Malachi_Chapter_1', 'Malachi_Chapter_2', 'Malachi_Chapter_3', 'Malachi_Chapter_4', 'Matthew_Chapter_1', 'Matthew_Chapter_2', 'Matthew_Chapter_3', 'Matthew_Chapter_4', 'Matthew_Chapter_5', 'Matthew_Chapter_6', 'Matthew_Chapter_7', 'Matthew_Chapter_8', 'Matthew_Chapter_9', 'Matthew_Chapter_10', 'Matthew_Chapter_11', 'Matthew_Chapter_12', 'Matthew_Chapter_13', 'Matthew_Chapter_14', 'Matthew_Chapter_15', 'Matthew_Chapter_16', 'Matthew_Chapter_17', 'Matthew_Chapter_18', 'Matthew_Chapter_19', 'Matthew_Chapter_20', 'Matthew_Chapter_21', 'Matthew_Chapter_22', 'Matthew_Chapter_23', 'Matthew_Chapter_24', 'Matthew_Chapter_25', 'Matthew_Chapter_26', 'Matthew_Chapter_27', 'Matthew_Chapter_28', 'Mark_Chapter_1', 'Mark_Chapter_2', 'Mark_Chapter_3', 'Mark_Chapter_4', 'Mark_Chapter_5', 'Mark_Chapter_6', 'Mark_Chapter_7', 'Mark_Chapter_8', 'Mark_Chapter_9', 'Mark_Chapter_10', 'Mark_Chapter_11', 'Mark_Chapter_12', 'Mark_Chapter_13', 'Mark_Chapter_14', 'Mark_Chapter_15', 'Mark_Chapter_16', 'Luke_Chapter_1', 'Luke_Chapter_2', 'Luke_Chapter_3', 'Luke_Chapter_4', 'Luke_Chapter_5', 'Luke_Chapter_6', 'Luke_Chapter_7', 'Luke_Chapter_8', 'Luke_Chapter_9', 'Luke_Chapter_10', 'Luke_Chapter_11', 'Luke_Chapter_12', 'Luke_Chapter_13', 'Luke_Chapter_14', 'Luke_Chapter_15', 'Luke_Chapter_16', 'Luke_Chapter_17', 'Luke_Chapter_18', 'Luke_Chapter_19', 'Luke_Chapter_20', 'Luke_Chapter_21', 'Luke_Chapter_22', 'Luke_Chapter_23', 'Luke_Chapter_24', 'John_Chapter_1', 'John_Chapter_2', 'John_Chapter_3', 'John_Chapter_4', 'John_Chapter_5', 'John_Chapter_6', 'John_Chapter_7', 'John_Chapter_8', 'John_Chapter_9', 'John_Chapter_10', 'John_Chapter_11', 'John_Chapter_12', 'John_Chapter_13', 'John_Chapter_14', 'John_Chapter_15', 'John_Chapter_16', 'John_Chapter_17', 'John_Chapter_18', 'John_Chapter_19', 'John_Chapter_20', 'John_Chapter_21', 'Acts_Chapter_1', 'Acts_Chapter_2', 'Acts_Chapter_3', 'Acts_Chapter_4', 'Acts_Chapter_5', 'Acts_Chapter_6', 'Acts_Chapter_7', 'Acts_Chapter_8', 'Acts_Chapter_9', 'Acts_Chapter_10', 'Acts_Chapter_11', 'Acts_Chapter_12', 'Acts_Chapter_13', 'Acts_Chapter_14', 'Acts_Chapter_15', 'Acts_Chapter_16', 'Acts_Chapter_17', 'Acts_Chapter_18', 'Acts_Chapter_19', 'Acts_Chapter_20', 'Acts_Chapter_21', 'Acts_Chapter_22', 'Acts_Chapter_23', 'Acts_Chapter_24', 'Acts_Chapter_25', 'Acts_Chapter_26', 'Acts_Chapter_27', 'Acts_Chapter_28', 'Romans_Chapter_1', 'Romans_Chapter_2', 'Romans_Chapter_3', 'Romans_Chapter_4', 'Romans_Chapter_5', 'Romans_Chapter_6', 'Romans_Chapter_7', 'Romans_Chapter_8', 'Romans_Chapter_9', 'Romans_Chapter_10', 'Romans_Chapter_11', 'Romans_Chapter_12', 'Romans_Chapter_13', 'Romans_Chapter_14', 'Romans_Chapter_15', 'Romans_Chapter_16', '1_Corinthians_Chapter_1', '1_Corinthians_Chapter_2', '1_Corinthians_Chapter_3', '1_Corinthians_Chapter_4', '1_Corinthians_Chapter_5', '1_Corinthians_Chapter_6', '1_Corinthians_Chapter_7', '1_Corinthians_Chapter_8', '1_Corinthians_Chapter_9', '1_Corinthians_Chapter_10', '1_Corinthians_Chapter_11', '1_Corinthians_Chapter_12', '1_Corinthians_Chapter_13', '1_Corinthians_Chapter_14', '1_Corinthians_Chapter_15', '1_Corinthians_Chapter_16', '2_Corinthians_Chapter_1', '2_Corinthians_Chapter_2', '2_Corinthians_Chapter_3', '2_Corinthians_Chapter_4', '2_Corinthians_Chapter_5', '2_Corinthians_Chapter_6', '2_Corinthians_Chapter_7', '2_Corinthians_Chapter_8', '2_Corinthians_Chapter_9', '2_Corinthians_Chapter_10', '2_Corinthians_Chapter_11', '2_Corinthians_Chapter_12', '2_Corinthians_Chapter_13', 'Galatians_Chapter_1', 'Galatians_Chapter_2', 'Galatians_Chapter_3', 'Galatians_Chapter_4', 'Galatians_Chapter_5', 'Galatians_Chapter_6', 'Ephesians_Chapter_1', 'Ephesians_Chapter_2', 'Ephesians_Chapter_3', 'Ephesians_Chapter_4', 'Ephesians_Chapter_5', 'Ephesians_Chapter_6', 'Philippians_Chapter_1', 'Philippians_Chapter_2', 'Philippians_Chapter_3', 'Philippians_Chapter_4', 'Colossians_Chapter_1', 'Colossians_Chapter_2', 'Colossians_Chapter_3', 'Colossians_Chapter_4', '1_Thessalonians_Chapter_1', '1_Thessalonians_Chapter_2', '1_Thessalonians_Chapter_3', '1_Thessalonians_Chapter_4', '1_Thessalonians_Chapter_5', '2_Thessalonians_Chapter_1', '2_Thessalonians_Chapter_2', '2_Thessalonians_Chapter_3', '1_Timothy_Chapter_1', '1_Timothy_Chapter_2', '1_Timothy_Chapter_3', '1_Timothy_Chapter_4', '1_Timothy_Chapter_5', '1_Timothy_Chapter_6', '2_Timothy_Chapter_1', '2_Timothy_Chapter_2', '2_Timothy_Chapter_3', '2_Timothy_Chapter_4', 'Titus_Chapter_1', 'Titus_Chapter_2', 'Titus_Chapter_3', 'Philemon_Chapter_1', 'Hebrews_Chapter_1', 'Hebrews_Chapter_2', 'Hebrews_Chapter_3', 'Hebrews_Chapter_4', 'Hebrews_Chapter_5', 'Hebrews_Chapter_6', 'Hebrews_Chapter_7', 'Hebrews_Chapter_8', 'Hebrews_Chapter_9', 'Hebrews_Chapter_10', 'Hebrews_Chapter_11', 'Hebrews_Chapter_12', 'Hebrews_Chapter_13', 'James_Chapter_1', 'James_Chapter_2', 'James_Chapter_3', 'James_Chapter_4', 'James_Chapter_5', '1_Peter_Chapter_1', '1_Peter_Chapter_2', '1_Peter_Chapter_3', '1_Peter_Chapter_4', '1_Peter_Chapter_5', '2_Peter_Chapter_1', '2_Peter_Chapter_2', '2_Peter_Chapter_3', '1_John_Chapter_1', '1_John_Chapter_2', '1_John_Chapter_3', '1_John_Chapter_4', '1_John_Chapter_5', '2_John_Chapter_1', '3_John_Chapter_1', 'Jude_Chapter_1', 'Revelation_Chapter_1', 'Revelation_Chapter_2', 'Revelation_Chapter_3', 'Revelation_Chapter_4', 'Revelation_Chapter_5', 'Revelation_Chapter_6', 'Revelation_Chapter_7', 'Revelation_Chapter_8', 'Revelation_Chapter_9', 'Revelation_Chapter_10', 'Revelation_Chapter_11', 'Revelation_Chapter_12', 'Revelation_Chapter_13', 'Revelation_Chapter_14', 'Revelation_Chapter_15', 'Revelation_Chapter_16', 'Revelation_Chapter_17', 'Revelation_Chapter_18', 'Revelation_Chapter_19', 'Revelation_Chapter_20', 'Revelation_Chapter_21', 'Revelation_Chapter_22'])"
      ]
     },
     "execution_count": 45,
     "metadata": {},
     "output_type": "execute_result"
    }
   ],
   "source": [
    "formatted_bible_dict.keys()"
   ]
  },
  {
   "cell_type": "code",
   "execution_count": 46,
   "metadata": {},
   "outputs": [],
   "source": [
    "bible_chapters = list(formatted_bible_dict.keys())\n",
    "for chp in bible_chapters:\n",
    "    filename = os.path.join('clean_text', 'kjv_processed', f'{chp}.txt')\n",
    "    with open(filename, 'w', encoding='utf-8') as f:\n",
    "        f.write(formatted_bible_dict[chp])"
   ]
  },
  {
   "cell_type": "code",
   "execution_count": null,
   "metadata": {},
   "outputs": [],
   "source": []
  }
 ],
 "metadata": {
  "kernelspec": {
   "display_name": ".venv",
   "language": "python",
   "name": "python3"
  },
  "language_info": {
   "codemirror_mode": {
    "name": "ipython",
    "version": 3
   },
   "file_extension": ".py",
   "mimetype": "text/x-python",
   "name": "python",
   "nbconvert_exporter": "python",
   "pygments_lexer": "ipython3",
   "version": "3.12.6"
  }
 },
 "nbformat": 4,
 "nbformat_minor": 2
}
