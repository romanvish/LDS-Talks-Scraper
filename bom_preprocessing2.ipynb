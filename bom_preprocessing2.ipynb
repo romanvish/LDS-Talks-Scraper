{
 "cells": [
  {
   "cell_type": "code",
   "execution_count": 1,
   "metadata": {},
   "outputs": [],
   "source": [
    "import re\n",
    "import os"
   ]
  },
  {
   "cell_type": "code",
   "execution_count": 2,
   "metadata": {},
   "outputs": [],
   "source": [
    "with open('raw_text/bom/bom.txt', 'r') as file:  # downloaded from https://www.gutenberg.org/ebooks/17 (plain text utf-8 version)\n",
    "    # Read the contents of the file\n",
    "    content = file.read()\n",
    "    file.close()"
   ]
  },
  {
   "cell_type": "code",
   "execution_count": 3,
   "metadata": {},
   "outputs": [
    {
     "data": {
      "text/plain": [
       "'THE BOOK OF MORMON\\n\\nAn Account Written\\n BY THE HAND OF MORMON\\n\\nUPON PLATES TAKEN FROM THE PLATES OF '"
      ]
     },
     "execution_count": 3,
     "metadata": {},
     "output_type": "execute_result"
    }
   ],
   "source": [
    "content[0:100]"
   ]
  },
  {
   "cell_type": "code",
   "execution_count": 4,
   "metadata": {},
   "outputs": [
    {
     "name": "stderr",
     "output_type": "stream",
     "text": [
      "<>:1: SyntaxWarning: invalid escape sequence '\\s'\n",
      "<>:1: SyntaxWarning: invalid escape sequence '\\s'\n",
      "/var/folders/51/6b4306h90693z7j7cd0g40kr0000gn/T/ipykernel_26932/3890121770.py:1: SyntaxWarning: invalid escape sequence '\\s'\n",
      "  chapters = re.split('([A-Za-z0-4\\s]{1,12} Chapter \\d{1,2})', content)\n"
     ]
    }
   ],
   "source": [
    "chapters = re.split('([A-Za-z0-4\\s]{1,12} Chapter \\d{1,2})', content)"
   ]
  },
  {
   "cell_type": "code",
   "execution_count": 5,
   "metadata": {},
   "outputs": [],
   "source": [
    "books = ['1ne', '2ne', 'jac', 'eno', \"jar\", 'omn', 'wom', 'mos', 'alm', 'hel', '3ne', '4ne', 'mrm', 'eth', 'mni']"
   ]
  },
  {
   "cell_type": "code",
   "execution_count": 6,
   "metadata": {},
   "outputs": [
    {
     "name": "stderr",
     "output_type": "stream",
     "text": [
      "<>:4: SyntaxWarning: invalid escape sequence '\\d'\n",
      "<>:4: SyntaxWarning: invalid escape sequence '\\d'\n",
      "/var/folders/51/6b4306h90693z7j7cd0g40kr0000gn/T/ipykernel_26932/2700884972.py:4: SyntaxWarning: invalid escape sequence '\\d'\n",
      "  big_dict[re.sub('\\n\\n', '', chapters[i-1])] = re.split('\\d:', re.sub('\\n\\n|\\n', ' ', chapters[i]))[1:]\n"
     ]
    }
   ],
   "source": [
    "big_dict = {}\n",
    "for i in range(1, len(chapters)):\n",
    "    if i % 2 == 0:\n",
    "        big_dict[re.sub('\\n\\n', '', chapters[i-1])] = re.split('\\d:', re.sub('\\n\\n|\\n', ' ', chapters[i]))[1:]"
   ]
  },
  {
   "cell_type": "code",
   "execution_count": 7,
   "metadata": {},
   "outputs": [],
   "source": [
    "for chapter_num in list(big_dict.keys()):\n",
    "    chapter = ''\n",
    "    for verse in big_dict[chapter_num]:\n",
    "        chapter += f'{verse}\\n\\n'\n",
    "    chapter_with_title = f'{chapter_num} \\n\\n{chapter}'\n",
    "\n",
    "    filename = os.path.join('clean_text', 'bom_processed', f'{chapter_num.replace(' ', '_')}.txt')\n",
    "    with open(filename, 'w', encoding='utf-8') as f:\n",
    "        f.write(chapter_with_title)\n"
   ]
  },
  {
   "cell_type": "markdown",
   "metadata": {},
   "source": [
    "### kjv"
   ]
  },
  {
   "cell_type": "code",
   "execution_count": 22,
   "metadata": {},
   "outputs": [],
   "source": [
    "with open('raw_text/kjv/kjv.txt', 'r') as file:  # downloaded from https://www.gutenberg.org/ebooks/17 (plain text utf-8 version)\n",
    "    # Read the contents of the file\n",
    "    kjv = file.read()\n",
    "    file.close()"
   ]
  },
  {
   "cell_type": "code",
   "execution_count": 26,
   "metadata": {},
   "outputs": [
    {
     "data": {
      "text/plain": [
       "'The Old Testament of the King James Version of the Bible\\nThe First Book of Moses: Called Genesis\\nThe Second Book of Moses: Called Exodus\\nThe Third Book of Moses: Called Leviticus\\nThe Fourth Book of Moses: Called Numbers\\nTh'"
      ]
     },
     "execution_count": 26,
     "metadata": {},
     "output_type": "execute_result"
    }
   ],
   "source": [
    "kjv[0:222]"
   ]
  },
  {
   "cell_type": "code",
   "execution_count": 13,
   "metadata": {},
   "outputs": [],
   "source": [
    "kjv = []\n",
    "with open('raw_text/kjv/kjv2.txt', 'r') as file:  # pasted from https://openbible.com/textfiles/kjv.txt\n",
    "    # Read the contents of the file\n",
    "    #  kjv = file.read()\n",
    "    for line in file:\n",
    "        kjv.append(line.rstrip())\n",
    "    file.close()"
   ]
  },
  {
   "cell_type": "code",
   "execution_count": 28,
   "metadata": {},
   "outputs": [
    {
     "name": "stdout",
     "output_type": "stream",
     "text": [
      "verse KJV... unable to be processed\n",
      "verse King James Bible: Pure Cambridge Edition - Text co... unable to be processed\n"
     ]
    }
   ],
   "source": [
    "kjv_dict = {}\n",
    "for verse in kjv:\n",
    "    try:\n",
    "        separated = verse.split('\\t')\n",
    "        book_versenum = separated[0]\n",
    "        verse_text = separated[1]\n",
    "        kjv_dict[book_versenum] = verse_text\n",
    "    except IndexError as ve:\n",
    "        print(f'verse {verse[0:50]}... unable to be processed')"
   ]
  },
  {
   "cell_type": "code",
   "execution_count": 48,
   "metadata": {},
   "outputs": [],
   "source": [
    "verse_titles = list(kjv_dict.keys())\n",
    "verse_content = list(kjv_dict.values())"
   ]
  },
  {
   "cell_type": "code",
   "execution_count": 52,
   "metadata": {},
   "outputs": [
    {
     "name": "stderr",
     "output_type": "stream",
     "text": [
      "<>:1: SyntaxWarning: invalid escape sequence '\\s'\n",
      "<>:1: SyntaxWarning: invalid escape sequence '\\s'\n",
      "/var/folders/51/6b4306h90693z7j7cd0g40kr0000gn/T/ipykernel_26932/3600205104.py:1: SyntaxWarning: invalid escape sequence '\\s'\n",
      "  split_verse = re.split('(\\s\\d{1,2}):', verse_titles[17547])\n"
     ]
    },
    {
     "data": {
      "text/plain": [
       "'Song of Solomon 1:10'"
      ]
     },
     "execution_count": 52,
     "metadata": {},
     "output_type": "execute_result"
    }
   ],
   "source": [
    "split_verse = re.split('(\\s\\d{1,2}):', verse_titles[17547])\n",
    "f'{split_verse[0]}{split_verse[1]}:{split_verse[2]}'"
   ]
  },
  {
   "cell_type": "code",
   "execution_count": 47,
   "metadata": {},
   "outputs": [
    {
     "data": {
      "text/plain": [
       "['Genesis 1:26',\n",
       " 'Genesis 1:27',\n",
       " 'Genesis 1:28',\n",
       " 'Genesis 1:29',\n",
       " 'Genesis 1:30',\n",
       " 'Genesis 1:31',\n",
       " 'Genesis 2:1',\n",
       " 'Genesis 2:2',\n",
       " 'Genesis 2:3',\n",
       " 'Genesis 2:4']"
      ]
     },
     "execution_count": 47,
     "metadata": {},
     "output_type": "execute_result"
    }
   ],
   "source": [
    "verse_content[25:35]"
   ]
  },
  {
   "cell_type": "code",
   "execution_count": 41,
   "metadata": {},
   "outputs": [
    {
     "data": {
      "text/plain": [
       "['Genesis 1:26',\n",
       " 'Genesis 1:27',\n",
       " 'Genesis 1:28',\n",
       " 'Genesis 1:29',\n",
       " 'Genesis 1:30',\n",
       " 'Genesis 1:31',\n",
       " 'Genesis 2:1',\n",
       " 'Genesis 2:2',\n",
       " 'Genesis 2:3',\n",
       " 'Genesis 2:4']"
      ]
     },
     "execution_count": 41,
     "metadata": {},
     "output_type": "execute_result"
    }
   ],
   "source": [
    "verse_titles[25:35]"
   ]
  },
  {
   "cell_type": "code",
   "execution_count": 69,
   "metadata": {},
   "outputs": [
    {
     "name": "stdout",
     "output_type": "stream",
     "text": [
      "Genesis_Chapter_1\n",
      "Genesis_Chapter_2\n"
     ]
    },
    {
     "name": "stderr",
     "output_type": "stream",
     "text": [
      "<>:5: SyntaxWarning: invalid escape sequence '\\s'\n",
      "<>:5: SyntaxWarning: invalid escape sequence '\\s'\n",
      "/var/folders/51/6b4306h90693z7j7cd0g40kr0000gn/T/ipykernel_26932/1160985601.py:5: SyntaxWarning: invalid escape sequence '\\s'\n",
      "  split = re.split('(\\s\\d{1,2}):', verse_nums[i])\n"
     ]
    },
    {
     "data": {
      "text/plain": [
       "'Thus the heavens and the earth were finished, and all the host of them. And on the seventh day God ended his work which he had made; and he rested on the seventh day from all his work which he had made. And God blessed the seventh day, and sanctified it: because that in it he had rested from all his work which God created and made. These [are] the generations of the heavens and of the earth when they were created, in the day that the LORD God made the earth and the heavens, '"
      ]
     },
     "execution_count": 69,
     "metadata": {},
     "output_type": "execute_result"
    }
   ],
   "source": [
    "def bible_formatter(verse_nums, verse_text):\n",
    "    \n",
    "    chapter_name = ''\n",
    "    for i in range(len(verse_nums)):\n",
    "        split = re.split('(\\s\\d{1,2}):', verse_nums[i])\n",
    "        if chapter_name != f'{split[0]} Chapter{split[1]}'.replace(' ', '_'):\n",
    "            chapter_content = ''\n",
    "            chapter_name = f'{split[0]} Chapter{split[1]}'.replace(' ', '_')\n",
    "            print(chapter_name)\n",
    "        if chapter_name == f'{split[0]} Chapter{split[1]}'.replace(' ', '_'):\n",
    "            chapter_content += verse_text[i] + ' '\n",
    "\n",
    "    return chapter_content\n",
    "\n",
    "bible_formatter(verse_titles[0:35], verse_content[0:35])"
   ]
  },
  {
   "cell_type": "code",
   "execution_count": null,
   "metadata": {},
   "outputs": [],
   "source": [
    "# use this format to write the chapters to files (this is taken from the book or mormon preprocessing)\n",
    "\n",
    "for chapter_num in list(big_dict.keys()):\n",
    "    chapter = ''\n",
    "    for verse in big_dict[chapter_num]:\n",
    "        chapter += f'{verse}\\n\\n'\n",
    "    chapter_with_title = f'{chapter_num} \\n\\n{chapter}'\n",
    "\n",
    "    filename = os.path.join('clean_text', 'bom_processed', f'{chapter_num.replace(' ', '_')}.txt')\n",
    "    with open(filename, 'w', encoding='utf-8') as f:\n",
    "        f.write(chapter_with_title)\n"
   ]
  }
 ],
 "metadata": {
  "kernelspec": {
   "display_name": ".venv",
   "language": "python",
   "name": "python3"
  },
  "language_info": {
   "codemirror_mode": {
    "name": "ipython",
    "version": 3
   },
   "file_extension": ".py",
   "mimetype": "text/x-python",
   "name": "python",
   "nbconvert_exporter": "python",
   "pygments_lexer": "ipython3",
   "version": "3.12.6"
  }
 },
 "nbformat": 4,
 "nbformat_minor": 2
}
