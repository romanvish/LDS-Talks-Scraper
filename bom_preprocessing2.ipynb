{
 "cells": [
  {
   "cell_type": "code",
   "execution_count": 18,
   "metadata": {},
   "outputs": [],
   "source": [
    "import re\n",
    "import os"
   ]
  },
  {
   "cell_type": "code",
   "execution_count": 2,
   "metadata": {},
   "outputs": [],
   "source": [
    "with open('raw_text/bom/bom.txt', 'r') as file:  # downloaded from https://www.gutenberg.org/ebooks/17 (plain text utf-8 version)\n",
    "    # Read the contents of the file\n",
    "    content = file.read()\n",
    "    file.close()"
   ]
  },
  {
   "cell_type": "code",
   "execution_count": 12,
   "metadata": {},
   "outputs": [
    {
     "data": {
      "text/plain": [
       "'THE BOOK OF MORMON\\n\\nAn Account Written\\n BY THE HAND OF MORMON\\n\\nUPON PLATES TAKEN FROM THE PLATES OF '"
      ]
     },
     "execution_count": 12,
     "metadata": {},
     "output_type": "execute_result"
    }
   ],
   "source": [
    "content[0:100]"
   ]
  },
  {
   "cell_type": "code",
   "execution_count": 4,
   "metadata": {},
   "outputs": [
    {
     "name": "stderr",
     "output_type": "stream",
     "text": [
      "<>:1: SyntaxWarning: invalid escape sequence '\\s'\n",
      "<>:1: SyntaxWarning: invalid escape sequence '\\s'\n",
      "/var/folders/51/6b4306h90693z7j7cd0g40kr0000gn/T/ipykernel_64496/3890121770.py:1: SyntaxWarning: invalid escape sequence '\\s'\n",
      "  chapters = re.split('([A-Za-z0-4\\s]{1,12} Chapter \\d{1,2})', content)\n"
     ]
    }
   ],
   "source": [
    "chapters = re.split('([A-Za-z0-4\\s]{1,12} Chapter \\d{1,2})', content)"
   ]
  },
  {
   "cell_type": "code",
   "execution_count": 5,
   "metadata": {},
   "outputs": [],
   "source": [
    "books = ['1ne', '2ne', 'jac', 'eno', \"jar\", 'omn', 'wom', 'mos', 'alm', 'hel', '3ne', '4ne', 'mrm', 'eth', 'mni']"
   ]
  },
  {
   "cell_type": "code",
   "execution_count": 6,
   "metadata": {},
   "outputs": [
    {
     "name": "stderr",
     "output_type": "stream",
     "text": [
      "<>:4: SyntaxWarning: invalid escape sequence '\\d'\n",
      "<>:4: SyntaxWarning: invalid escape sequence '\\d'\n",
      "/var/folders/51/6b4306h90693z7j7cd0g40kr0000gn/T/ipykernel_64496/2700884972.py:4: SyntaxWarning: invalid escape sequence '\\d'\n",
      "  big_dict[re.sub('\\n\\n', '', chapters[i-1])] = re.split('\\d:', re.sub('\\n\\n|\\n', ' ', chapters[i]))[1:]\n"
     ]
    }
   ],
   "source": [
    "big_dict = {}\n",
    "for i in range(1, len(chapters)):\n",
    "    if i % 2 == 0:\n",
    "        big_dict[re.sub('\\n\\n', '', chapters[i-1])] = re.split('\\d:', re.sub('\\n\\n|\\n', ' ', chapters[i]))[1:]"
   ]
  },
  {
   "cell_type": "code",
   "execution_count": 21,
   "metadata": {},
   "outputs": [],
   "source": [
    "for chapter_num in list(big_dict.keys()):\n",
    "    chapter = ''\n",
    "    for verse in big_dict[chapter_num]:\n",
    "        chapter += f'{verse}\\n\\n'\n",
    "    chapter_with_title = f'{chapter_num} \\n\\n{chapter}'\n",
    "\n",
    "    filename = os.path.join('clean_text', 'bom_processed', f'{chapter_num.replace(' ', '_')}.txt')\n",
    "    with open(filename, 'w', encoding='utf-8') as f:\n",
    "        f.write(chapter_with_title)\n"
   ]
  }
 ],
 "metadata": {
  "kernelspec": {
   "display_name": ".venv",
   "language": "python",
   "name": "python3"
  },
  "language_info": {
   "codemirror_mode": {
    "name": "ipython",
    "version": 3
   },
   "file_extension": ".py",
   "mimetype": "text/x-python",
   "name": "python",
   "nbconvert_exporter": "python",
   "pygments_lexer": "ipython3",
   "version": "3.12.6"
  }
 },
 "nbformat": 4,
 "nbformat_minor": 2
}
